{
  "nbformat": 4,
  "nbformat_minor": 0,
  "metadata": {
    "colab": {
      "name": "hatespeech.ipynb",
      "provenance": [],
      "collapsed_sections": []
    },
    "kernelspec": {
      "name": "python3",
      "display_name": "Python 3"
    }
  },
  "cells": [
    {
      "cell_type": "code",
      "metadata": {
        "id": "7FWcqYBjhaJm",
        "colab_type": "code",
        "colab": {}
      },
      "source": [
        "import numpy as np\n",
        "import matplotlib.pyplot as plt\n",
        "import keras\n",
        "import pandas as pd\n",
        "import re\n",
        "import nltk\n",
        "from keras.layers import LSTM\n",
        "from keras.models import Sequential\n",
        "from keras.layers import Dense\n",
        "from keras.preprocessing.text import Tokenizer\n",
        "from keras.layers import Flatten\n",
        "from keras.layers.embeddings import Embedding\n",
        "from keras.callbacks import LearningRateScheduler\n",
        "from keras.layers import Bidirectional"
      ],
      "execution_count": null,
      "outputs": []
    },
    {
      "cell_type": "code",
      "metadata": {
        "id": "VhQ6B-LXhsMl",
        "colab_type": "code",
        "colab": {
          "base_uri": "https://localhost:8080/",
          "height": 34
        },
        "outputId": "a06f50c7-6b4a-4d9d-b00a-edaec50b8269"
      },
      "source": [
        "from google.colab import drive\n",
        "drive.mount('/content/drive')"
      ],
      "execution_count": null,
      "outputs": [
        {
          "output_type": "stream",
          "text": [
            "Drive already mounted at /content/drive; to attempt to forcibly remount, call drive.mount(\"/content/drive\", force_remount=True).\n"
          ],
          "name": "stdout"
        }
      ]
    },
    {
      "cell_type": "code",
      "metadata": {
        "id": "U75Y95ebhtcr",
        "colab_type": "code",
        "colab": {}
      },
      "source": [
        "data = pd.read_csv(\"/content/drive/My Drive/labeled_data.csv\")\n",
        "tweets = data.iloc[:, -1:]\n",
        "labels = data.iloc[:, -2:-1]\n",
        "y = np.zeros((len(labels), 3))\n",
        "for i in range(len(labels)):\n",
        "  y[i, labels['class'][i]] = 1"
      ],
      "execution_count": null,
      "outputs": []
    },
    {
      "cell_type": "code",
      "metadata": {
        "id": "c7unopQdicGR",
        "colab_type": "code",
        "colab": {
          "base_uri": "https://localhost:8080/",
          "height": 50
        },
        "outputId": "d090e9eb-5d44-4c6a-a4b1-3c01624e2356"
      },
      "source": [
        "nltk.download(\"stopwords\")\n",
        "from nltk.corpus import stopwords\n",
        "from nltk.stem.porter import PorterStemmer"
      ],
      "execution_count": null,
      "outputs": [
        {
          "output_type": "stream",
          "text": [
            "[nltk_data] Downloading package stopwords to /root/nltk_data...\n",
            "[nltk_data]   Unzipping corpora/stopwords.zip.\n"
          ],
          "name": "stdout"
        }
      ]
    },
    {
      "cell_type": "code",
      "metadata": {
        "id": "vAk6IRCoih89",
        "colab_type": "code",
        "colab": {}
      },
      "source": [
        "corpus = []\n",
        "for index in range(len(tweets['tweet'])):\n",
        "    review = re.sub('!', '', tweets['tweet'][index])\n",
        "    review = re.sub('RT', '', review)\n",
        "    review = re.sub('@\\S*', '', review)\n",
        "    review = re.sub('&amp;', '', review)\n",
        "    review = re.sub('[\\.][\\.]+', '', review)\n",
        "    review = re.sub('#', '', review)\n",
        "    review = re.sub('&\\S+', '', review)\n",
        "    review = re.sub('http\\S+', '', review)\n",
        "    review = review.lower()\n",
        "    review = review.split()\n",
        "    ps = PorterStemmer()\n",
        "    review = [ps.stem(word) for word in review if word not in set(stopwords.words('english'))]\n",
        "    final_review = ' '.join(review)\n",
        "    corpus.append(final_review)"
      ],
      "execution_count": null,
      "outputs": []
    },
    {
      "cell_type": "code",
      "metadata": {
        "id": "BMe8-d2lWBg6",
        "colab_type": "code",
        "colab": {
          "base_uri": "https://localhost:8080/",
          "height": 34
        },
        "outputId": "eeabcb27-b612-402c-df03-3efd18c5445f"
      },
      "source": [
        "from sklearn.model_selection import train_test_split\n",
        "X_train, X_test, y_train, y_test = train_test_split(corpus, y, test_size = 0.1)\n",
        "print(len(X_train))"
      ],
      "execution_count": null,
      "outputs": [
        {
          "output_type": "stream",
          "text": [
            "22304\n"
          ],
          "name": "stdout"
        }
      ]
    },
    {
      "cell_type": "code",
      "metadata": {
        "id": "uJmwtFKOdXqS",
        "colab_type": "code",
        "colab": {}
      },
      "source": [
        "tokenizer = Tokenizer()\n",
        "tokenizer.fit_on_texts(X_train)"
      ],
      "execution_count": null,
      "outputs": []
    },
    {
      "cell_type": "code",
      "metadata": {
        "id": "9vrZ9-C7hlfq",
        "colab_type": "code",
        "colab": {}
      },
      "source": [
        "vocab_length = len(tokenizer.word_index) + 1"
      ],
      "execution_count": null,
      "outputs": []
    },
    {
      "cell_type": "code",
      "metadata": {
        "id": "pN_0VVqQhv29",
        "colab_type": "code",
        "colab": {}
      },
      "source": [
        "embedded_sequences = tokenizer.texts_to_sequences(X_train)"
      ],
      "execution_count": null,
      "outputs": []
    },
    {
      "cell_type": "code",
      "metadata": {
        "id": "U_hOMAJsh67t",
        "colab_type": "code",
        "colab": {
          "base_uri": "https://localhost:8080/",
          "height": 50
        },
        "outputId": "19a2c9f1-d818-415d-b772-cf4ca5209b3c"
      },
      "source": [
        "from nltk.tokenize import word_tokenize\n",
        "nltk.download('punkt')\n",
        "\n",
        "word_count = lambda sentence: len(word_tokenize(sentence))\n",
        "longest_sentence = max(corpus, key=word_count)\n",
        "length_long_sentence = len(word_tokenize(longest_sentence))\n",
        "#print(length_long_sentence)\n",
        "\n",
        "from keras.preprocessing.sequence import pad_sequences\n",
        "padded_sentences = pad_sequences(embedded_sequences, padding = 'post', maxlen = length_long_sentence)\n",
        "#print(embedded_sequences)\n",
        "#print(padded_sentences)"
      ],
      "execution_count": null,
      "outputs": [
        {
          "output_type": "stream",
          "text": [
            "[nltk_data] Downloading package punkt to /root/nltk_data...\n",
            "[nltk_data]   Unzipping tokenizers/punkt.zip.\n"
          ],
          "name": "stdout"
        }
      ]
    },
    {
      "cell_type": "code",
      "metadata": {
        "id": "fIfE49QysH3a",
        "colab_type": "code",
        "colab": {
          "base_uri": "https://localhost:8080/",
          "height": 353
        },
        "outputId": "88e89766-4df7-42a4-9718-06604d7e6901"
      },
      "source": [
        "#!wget 'http://nlp.stanford.edu/data/glove.6B.zip'"
      ],
      "execution_count": null,
      "outputs": [
        {
          "output_type": "stream",
          "text": [
            "--2020-08-07 11:00:00--  http://nlp.stanford.edu/data/glove.6B.zip\n",
            "Resolving nlp.stanford.edu (nlp.stanford.edu)... 171.64.67.140\n",
            "Connecting to nlp.stanford.edu (nlp.stanford.edu)|171.64.67.140|:80... connected.\n",
            "HTTP request sent, awaiting response... 302 Found\n",
            "Location: https://nlp.stanford.edu/data/glove.6B.zip [following]\n",
            "--2020-08-07 11:00:01--  https://nlp.stanford.edu/data/glove.6B.zip\n",
            "Connecting to nlp.stanford.edu (nlp.stanford.edu)|171.64.67.140|:443... connected.\n",
            "HTTP request sent, awaiting response... 301 Moved Permanently\n",
            "Location: http://downloads.cs.stanford.edu/nlp/data/glove.6B.zip [following]\n",
            "--2020-08-07 11:00:01--  http://downloads.cs.stanford.edu/nlp/data/glove.6B.zip\n",
            "Resolving downloads.cs.stanford.edu (downloads.cs.stanford.edu)... 171.64.64.22\n",
            "Connecting to downloads.cs.stanford.edu (downloads.cs.stanford.edu)|171.64.64.22|:80... connected.\n",
            "HTTP request sent, awaiting response... 200 OK\n",
            "Length: 862182613 (822M) [application/zip]\n",
            "Saving to: ‘glove.6B.zip’\n",
            "\n",
            "glove.6B.zip        100%[===================>] 822.24M  2.14MB/s    in 6m 27s  \n",
            "\n",
            "2020-08-07 11:06:27 (2.13 MB/s) - ‘glove.6B.zip’ saved [862182613/862182613]\n",
            "\n"
          ],
          "name": "stdout"
        }
      ]
    },
    {
      "cell_type": "code",
      "metadata": {
        "id": "wbnnjUTBsIG6",
        "colab_type": "code",
        "colab": {
          "base_uri": "https://localhost:8080/",
          "height": 101
        },
        "outputId": "fe47bbd7-28a9-40c4-c5da-91b38265e851"
      },
      "source": [
        "#!unzip '/content/glove.6B.zip'"
      ],
      "execution_count": null,
      "outputs": [
        {
          "output_type": "stream",
          "text": [
            "Archive:  /content/glove.6B.zip\n",
            "  inflating: glove.6B.50d.txt        \n",
            "  inflating: glove.6B.100d.txt       \n",
            "  inflating: glove.6B.200d.txt       \n",
            "  inflating: glove.6B.300d.txt       \n"
          ],
          "name": "stdout"
        }
      ]
    },
    {
      "cell_type": "code",
      "metadata": {
        "id": "jG73yQqXnojS",
        "colab_type": "code",
        "colab": {}
      },
      "source": [
        "embeddings_dictionary = dict()\n",
        "embedding_file = open('/content/glove.6B.300d.txt')"
      ],
      "execution_count": null,
      "outputs": []
    },
    {
      "cell_type": "code",
      "metadata": {
        "id": "TGH497Liqmag",
        "colab_type": "code",
        "colab": {}
      },
      "source": [
        "for line in embedding_file:\n",
        "  records = line.split()\n",
        "  word = records[0]\n",
        "  vector = np.asarray(records[1:], dtype = 'float32')\n",
        "  embeddings_dictionary[word] = vector\n",
        "\n",
        "embedding_file.close()"
      ],
      "execution_count": null,
      "outputs": []
    },
    {
      "cell_type": "code",
      "metadata": {
        "id": "q-serun2tMud",
        "colab_type": "code",
        "colab": {}
      },
      "source": [
        "embedding_matrix = np.zeros((vocab_length, 300))\n",
        "for word, index in tokenizer.word_index.items():\n",
        "  embeddings_vector = embeddings_dictionary.get(word)\n",
        "  if embeddings_vector is not None:\n",
        "    embedding_matrix[index] = embeddings_vector"
      ],
      "execution_count": null,
      "outputs": []
    },
    {
      "cell_type": "code",
      "metadata": {
        "id": "pvVk0oTImbUN",
        "colab_type": "code",
        "colab": {}
      },
      "source": [
        "class CustomCallback(keras.callbacks.Callback):\n",
        "  def on_epoch_end(self, epoch, logs = {}):\n",
        "    if logs['acc'] >= 0.975:\n",
        "      print(\"\\nAccuracy greater than 95%. Stopping.....\")\n",
        "      self.model.stop_training = True\n",
        "earlystop = keras.callbacks.EarlyStopping(monitor = 'val_acc', patience = 20, mode = 'max', restore_best_weights = True)"
      ],
      "execution_count": null,
      "outputs": []
    },
    {
      "cell_type": "code",
      "metadata": {
        "id": "yQkTWORWxnuQ",
        "colab_type": "code",
        "colab": {
          "base_uri": "https://localhost:8080/",
          "height": 353
        },
        "outputId": "1b01078b-2ada-4ec3-e695-599bb4f88bc8"
      },
      "source": [
        "model = Sequential()\n",
        "embedding_layer = Embedding(vocab_length, 300, input_length = length_long_sentence, weights = [embedding_matrix], trainable = False)\n",
        "model.add(embedding_layer)\n",
        "model.add(Bidirectional(LSTM(units = 100, return_sequences = True)))\n",
        "model.add(Bidirectional(LSTM(units = 100)))\n",
        "model.add(Dense(1, activation='relu'))\n",
        "model.add(Dense(10, activation = 'relu'))\n",
        "model.add(Dense(3, activation = 'softmax'))\n",
        "model.summary()"
      ],
      "execution_count": null,
      "outputs": [
        {
          "output_type": "stream",
          "text": [
            "Model: \"sequential\"\n",
            "_________________________________________________________________\n",
            "Layer (type)                 Output Shape              Param #   \n",
            "=================================================================\n",
            "embedding (Embedding)        (None, 47, 300)           5451300   \n",
            "_________________________________________________________________\n",
            "bidirectional (Bidirectional (None, 47, 200)           320800    \n",
            "_________________________________________________________________\n",
            "bidirectional_1 (Bidirection (None, 200)               240800    \n",
            "_________________________________________________________________\n",
            "dense (Dense)                (None, 1)                 201       \n",
            "_________________________________________________________________\n",
            "dense_1 (Dense)              (None, 10)                20        \n",
            "_________________________________________________________________\n",
            "dense_2 (Dense)              (None, 3)                 33        \n",
            "=================================================================\n",
            "Total params: 6,013,154\n",
            "Trainable params: 561,854\n",
            "Non-trainable params: 5,451,300\n",
            "_________________________________________________________________\n"
          ],
          "name": "stdout"
        }
      ]
    },
    {
      "cell_type": "code",
      "metadata": {
        "id": "P1EFLtWuyvTU",
        "colab_type": "code",
        "colab": {}
      },
      "source": [
        "model.compile(optimizer = keras.optimizers.RMSprop(), loss = 'categorical_crossentropy', metrics = ['acc'])"
      ],
      "execution_count": null,
      "outputs": []
    },
    {
      "cell_type": "code",
      "metadata": {
        "id": "gIcm5PhHt1jR",
        "colab_type": "code",
        "colab": {}
      },
      "source": [
        "test_set = tokenizer.texts_to_sequences(X_test)\n",
        "test_padded = pad_sequences(test_set, maxlen = length_long_sentence, padding = 'post', truncating='pre')"
      ],
      "execution_count": null,
      "outputs": []
    },
    {
      "cell_type": "code",
      "metadata": {
        "id": "EL39kyOy1QlX",
        "colab_type": "code",
        "colab": {
          "base_uri": "https://localhost:8080/",
          "height": 857
        },
        "outputId": "168f338e-438c-44fd-dba3-8adc4572875b"
      },
      "source": [
        "history = model.fit(padded_sentences, y_train, epochs = 100, callbacks = [earlystop], validation_data= (test_padded, y_test))"
      ],
      "execution_count": null,
      "outputs": [
        {
          "output_type": "stream",
          "text": [
            "Epoch 1/100\n",
            "697/697 [==============================] - 142s 204ms/step - loss: 0.7356 - acc: 0.7752 - val_loss: 0.5359 - val_acc: 0.7592\n",
            "Epoch 2/100\n",
            "697/697 [==============================] - 140s 200ms/step - loss: 0.4436 - acc: 0.8126 - val_loss: 0.4165 - val_acc: 0.8544\n",
            "Epoch 3/100\n",
            "697/697 [==============================] - 139s 199ms/step - loss: 0.3678 - acc: 0.8806 - val_loss: 0.3899 - val_acc: 0.8616\n",
            "Epoch 4/100\n",
            "697/697 [==============================] - 139s 200ms/step - loss: 0.3331 - acc: 0.8906 - val_loss: 0.3824 - val_acc: 0.8653\n",
            "Epoch 5/100\n",
            "697/697 [==============================] - 138s 197ms/step - loss: 0.3052 - acc: 0.9007 - val_loss: 0.3898 - val_acc: 0.8677\n",
            "Epoch 6/100\n",
            "697/697 [==============================] - 138s 198ms/step - loss: 0.2809 - acc: 0.9090 - val_loss: 0.4164 - val_acc: 0.8661\n",
            "Epoch 7/100\n",
            "697/697 [==============================] - 138s 198ms/step - loss: 0.2594 - acc: 0.9141 - val_loss: 0.4548 - val_acc: 0.8649\n",
            "Epoch 8/100\n",
            "697/697 [==============================] - 138s 199ms/step - loss: 0.2388 - acc: 0.9193 - val_loss: 0.4931 - val_acc: 0.8669\n",
            "Epoch 9/100\n",
            "697/697 [==============================] - 139s 200ms/step - loss: 0.2183 - acc: 0.9220 - val_loss: 0.4916 - val_acc: 0.8588\n",
            "Epoch 10/100\n",
            "697/697 [==============================] - 139s 199ms/step - loss: 0.2035 - acc: 0.9261 - val_loss: 0.6116 - val_acc: 0.8576\n",
            "Epoch 11/100\n",
            "697/697 [==============================] - 137s 197ms/step - loss: 0.1878 - acc: 0.9335 - val_loss: 0.6863 - val_acc: 0.8544\n",
            "Epoch 12/100\n",
            "697/697 [==============================] - 138s 198ms/step - loss: 0.1750 - acc: 0.9424 - val_loss: 0.6815 - val_acc: 0.8584\n",
            "Epoch 13/100\n",
            "697/697 [==============================] - 139s 200ms/step - loss: 0.1580 - acc: 0.9520 - val_loss: 0.7296 - val_acc: 0.8390\n",
            "Epoch 14/100\n",
            "697/697 [==============================] - 138s 198ms/step - loss: 0.1471 - acc: 0.9580 - val_loss: 0.8454 - val_acc: 0.8491\n",
            "Epoch 15/100\n",
            "697/697 [==============================] - 139s 199ms/step - loss: 0.1315 - acc: 0.9618 - val_loss: 0.9043 - val_acc: 0.8471\n",
            "Epoch 16/100\n",
            "697/697 [==============================] - 139s 199ms/step - loss: 0.1260 - acc: 0.9650 - val_loss: 0.9622 - val_acc: 0.8447\n",
            "Epoch 17/100\n",
            "697/697 [==============================] - 140s 201ms/step - loss: 0.1193 - acc: 0.9686 - val_loss: 0.9638 - val_acc: 0.8507\n",
            "Epoch 18/100\n",
            "697/697 [==============================] - 138s 198ms/step - loss: 0.1115 - acc: 0.9716 - val_loss: 1.0309 - val_acc: 0.8443\n",
            "Epoch 19/100\n",
            "697/697 [==============================] - 139s 199ms/step - loss: 0.1036 - acc: 0.9730 - val_loss: 1.0491 - val_acc: 0.8564\n",
            "Epoch 20/100\n",
            "697/697 [==============================] - 139s 200ms/step - loss: 0.0957 - acc: 0.9751 - val_loss: 0.9558 - val_acc: 0.8390\n",
            "Epoch 21/100\n",
            "697/697 [==============================] - 140s 201ms/step - loss: 0.0955 - acc: 0.9762 - val_loss: 1.0531 - val_acc: 0.8661\n",
            "Epoch 22/100\n",
            "697/697 [==============================] - 141s 202ms/step - loss: 0.0945 - acc: 0.9768 - val_loss: 0.8686 - val_acc: 0.8459\n",
            "Epoch 23/100\n",
            "697/697 [==============================] - 143s 205ms/step - loss: 0.0870 - acc: 0.9769 - val_loss: 1.0440 - val_acc: 0.8544\n",
            "Epoch 24/100\n",
            "697/697 [==============================] - 143s 205ms/step - loss: 0.0900 - acc: 0.9770 - val_loss: 0.9490 - val_acc: 0.8459\n",
            "Epoch 25/100\n",
            "697/697 [==============================] - 142s 204ms/step - loss: 0.0877 - acc: 0.9780 - val_loss: 0.9215 - val_acc: 0.8479\n"
          ],
          "name": "stdout"
        }
      ]
    },
    {
      "cell_type": "code",
      "metadata": {
        "id": "IF-o0o6CECJg",
        "colab_type": "code",
        "colab": {
          "base_uri": "https://localhost:8080/",
          "height": 134
        },
        "outputId": "2d946e7c-00bc-499f-a1c1-dcc5173527a2"
      },
      "source": [
        "model.predict([test_padded])"
      ],
      "execution_count": null,
      "outputs": [
        {
          "output_type": "execute_result",
          "data": {
            "text/plain": [
              "array([[9.66233462e-02, 1.19050875e-01, 7.84325838e-01],\n",
              "       [1.33526787e-01, 8.06720436e-01, 5.97528219e-02],\n",
              "       [1.47349993e-02, 9.85182583e-01, 8.24432136e-05],\n",
              "       ...,\n",
              "       [1.18284794e-02, 9.88127410e-01, 4.41002594e-05],\n",
              "       [7.69771859e-02, 9.12000313e-02, 8.31822753e-01],\n",
              "       [1.75581038e-01, 4.51248080e-01, 3.73170912e-01]], dtype=float32)"
            ]
          },
          "metadata": {
            "tags": []
          },
          "execution_count": 21
        }
      ]
    },
    {
      "cell_type": "code",
      "metadata": {
        "id": "lXkXY-SMoMsp",
        "colab_type": "code",
        "colab": {
          "base_uri": "https://localhost:8080/",
          "height": 50
        },
        "outputId": "b3f5ab47-ef76-4612-a7e7-06f6574940f5"
      },
      "source": [
        "model.evaluate([test_padded], y_test)"
      ],
      "execution_count": null,
      "outputs": [
        {
          "output_type": "stream",
          "text": [
            "78/78 [==============================] - 4s 54ms/step - loss: 0.3898 - acc: 0.8677\n"
          ],
          "name": "stdout"
        },
        {
          "output_type": "execute_result",
          "data": {
            "text/plain": [
              "[0.3897678554058075, 0.8676885962486267]"
            ]
          },
          "metadata": {
            "tags": []
          },
          "execution_count": 22
        }
      ]
    },
    {
      "cell_type": "code",
      "metadata": {
        "id": "aaN8L6Pqg2N4",
        "colab_type": "code",
        "colab": {
          "base_uri": "https://localhost:8080/",
          "height": 279
        },
        "outputId": "fbaaef3a-ae1d-4625-a909-5e2e31b4cd3a"
      },
      "source": [
        "training_loss = history.history['acc']\n",
        "validation_loss = history.history['val_acc']\n",
        "\n",
        "epoch_count = range(1, len(training_loss) + 1)\n",
        "\n",
        "plt.plot(epoch_count, training_loss, color = 'red')\n",
        "plt.plot(epoch_count, validation_loss, color = 'blue')\n",
        "plt.legend(['Training accuracy', 'Validation accuracy'])\n",
        "plt.xlabel('Epoch')\n",
        "plt.ylabel('Accuracy')\n",
        "plt.show()"
      ],
      "execution_count": null,
      "outputs": [
        {
          "output_type": "display_data",
          "data": {
            "image/png": "[encoded data removed]",
            "text/plain": [
              "<Figure size 432x288 with 1 Axes>"
            ]
          },
          "metadata": {
            "tags": [],
            "needs_background": "light"
          }
        }
      ]
    },
    {
      "cell_type": "code",
      "metadata": {
        "id": "FDSog0ZO2Y89",
        "colab_type": "code",
        "colab": {}
      },
      "source": [
        "model.save('/content/drive/My Drive/hatespeech.h5')"
      ],
      "execution_count": null,
      "outputs": []
    }
  ]
}